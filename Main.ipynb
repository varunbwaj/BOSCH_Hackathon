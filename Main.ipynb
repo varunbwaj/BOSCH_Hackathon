{
 "cells": [
  {
   "cell_type": "code",
   "execution_count": 1,
   "id": "bceddb5c",
   "metadata": {},
   "outputs": [
    {
     "name": "stdout",
     "output_type": "stream",
     "text": [
      "Requirement already satisfied: PyPDF2 in /opt/homebrew/Caskroom/miniconda/base/envs/Bosch/lib/python3.11/site-packages (3.0.1)\n",
      "Requirement already satisfied: pdfplumber in /opt/homebrew/Caskroom/miniconda/base/envs/Bosch/lib/python3.11/site-packages (0.11.0)\n",
      "Requirement already satisfied: pdf2image in /opt/homebrew/Caskroom/miniconda/base/envs/Bosch/lib/python3.11/site-packages (1.17.0)\n",
      "Requirement already satisfied: pycryptodome in /opt/homebrew/Caskroom/miniconda/base/envs/Bosch/lib/python3.11/site-packages (3.20.0)\n",
      "Requirement already satisfied: pdfminer.six==20231228 in /opt/homebrew/Caskroom/miniconda/base/envs/Bosch/lib/python3.11/site-packages (from pdfplumber) (20231228)\n",
      "Requirement already satisfied: Pillow>=9.1 in /opt/homebrew/Caskroom/miniconda/base/envs/Bosch/lib/python3.11/site-packages (from pdfplumber) (10.3.0)\n",
      "Requirement already satisfied: pypdfium2>=4.18.0 in /opt/homebrew/Caskroom/miniconda/base/envs/Bosch/lib/python3.11/site-packages (from pdfplumber) (4.30.0)\n",
      "Requirement already satisfied: charset-normalizer>=2.0.0 in /opt/homebrew/Caskroom/miniconda/base/envs/Bosch/lib/python3.11/site-packages (from pdfminer.six==20231228->pdfplumber) (3.3.2)\n",
      "Requirement already satisfied: cryptography>=36.0.0 in /opt/homebrew/Caskroom/miniconda/base/envs/Bosch/lib/python3.11/site-packages (from pdfminer.six==20231228->pdfplumber) (42.0.7)\n",
      "Requirement already satisfied: cffi>=1.12 in /opt/homebrew/Caskroom/miniconda/base/envs/Bosch/lib/python3.11/site-packages (from cryptography>=36.0.0->pdfminer.six==20231228->pdfplumber) (1.16.0)\n",
      "Requirement already satisfied: pycparser in /opt/homebrew/Caskroom/miniconda/base/envs/Bosch/lib/python3.11/site-packages (from cffi>=1.12->cryptography>=36.0.0->pdfminer.six==20231228->pdfplumber) (2.22)\n"
     ]
    }
   ],
   "source": [
    "!pip install PyPDF2 pdfplumber pdf2image pycryptodome"
   ]
  },
  {
   "cell_type": "code",
   "execution_count": 2,
   "id": "a3601b3a-5539-494c-87cc-351c31ddde1f",
   "metadata": {},
   "outputs": [],
   "source": [
    "import os\n",
    "import json\n",
    "from PyPDF2 import PdfReader\n",
    "import pdfplumber\n",
    "from pdf2image import convert_from_path"
   ]
  },
  {
   "cell_type": "code",
   "execution_count": 3,
   "id": "9bb33c60-6107-4b6c-905c-ccf21c49fcd1",
   "metadata": {},
   "outputs": [],
   "source": [
    "# Function to extract text from a PDF file\n",
    "def extract_text_from_pdf(pdf_path):\n",
    "    text = \"\"\n",
    "    reader = PdfReader(pdf_path)\n",
    "    for page in reader.pages:\n",
    "        text += page.extract_text() or ''\n",
    "    return text"
   ]
  },
  {
   "cell_type": "code",
   "execution_count": 4,
   "id": "2a24801e-22fc-4a24-806a-f84d399b9c60",
   "metadata": {},
   "outputs": [],
   "source": [
    "# Function to extract tables from a PDF file using pdfplumber\n",
    "def extract_tables_from_pdf(pdf_path):\n",
    "    tables = []\n",
    "    with pdfplumber.open(pdf_path) as pdf:\n",
    "        for page_num, page in enumerate(pdf.pages, start=1):\n",
    "            extracted_tables = page.extract_tables()\n",
    "            for table in extracted_tables:\n",
    "                tables.append({\n",
    "                    \"page\": page_num,\n",
    "                    \"table\": table\n",
    "                })\n",
    "    return tables"
   ]
  },
  {
   "cell_type": "code",
   "execution_count": 5,
   "id": "bdfc73cd-a2e0-4115-a671-e0764f9ef75e",
   "metadata": {},
   "outputs": [],
   "source": [
    "def extract_images_from_pdf(pdf_path, output_directory):\n",
    "    images = []\n",
    "    image_dir = os.path.join(output_directory, os.path.splitext(os.path.basename(pdf_path))[0])\n",
    "    os.makedirs(image_dir, exist_ok=True)\n",
    "\n",
    "    pages = convert_from_path(pdf_path)\n",
    "    for page_num, page in enumerate(pages, start=1):\n",
    "        image_filename = f\"page_{page_num}.jpg\"  # Adjust extension as needed\n",
    "        image_path = os.path.join(image_dir, image_filename)\n",
    "        page.save(image_path)\n",
    "        images.append({\n",
    "            \"page\": page_num,\n",
    "            \"image_file\": os.path.relpath(image_path, output_directory)\n",
    "        })\n",
    "    return images"
   ]
  },
  {
   "cell_type": "code",
   "execution_count": 6,
   "id": "dd98169d-c234-4c9b-a67f-a8a423532eb8",
   "metadata": {},
   "outputs": [
    {
     "name": "stdout",
     "output_type": "stream",
     "text": [
      "Text extracted from manuals/nexon.pdf and saved to extracted_content/nexon_text.json\n",
      "Tables extracted from manuals/nexon.pdf and saved to extracted_content/nexon_tables.json\n",
      "Images extracted from manuals/nexon.pdf and saved to extracted_content/nexon_images.json\n",
      "Text extracted from manuals/Verna.pdf and saved to extracted_content/Verna_text.json\n",
      "Tables extracted from manuals/Verna.pdf and saved to extracted_content/Verna_tables.json\n",
      "Images extracted from manuals/Verna.pdf and saved to extracted_content/Verna_images.json\n",
      "Text extracted from manuals/exter.pdf and saved to extracted_content/exter_text.json\n",
      "Tables extracted from manuals/exter.pdf and saved to extracted_content/exter_tables.json\n",
      "Images extracted from manuals/exter.pdf and saved to extracted_content/exter_images.json\n",
      "Text extracted from manuals/punch.pdf and saved to extracted_content/punch_text.json\n",
      "Tables extracted from manuals/punch.pdf and saved to extracted_content/punch_tables.json\n",
      "Images extracted from manuals/punch.pdf and saved to extracted_content/punch_images.json\n"
     ]
    }
   ],
   "source": [
    "def main():\n",
    "    pdf_directory = \"manuals\"\n",
    "    output_directory = \"extracted_content\"\n",
    "\n",
    "    # Create output directory if it doesn't exist\n",
    "    os.makedirs(output_directory, exist_ok=True)\n",
    "\n",
    "    # Iterate over PDF files in the directory\n",
    "    for filename in os.listdir(pdf_directory):\n",
    "        if filename.endswith(\".pdf\"):\n",
    "            pdf_path = os.path.join(pdf_directory, filename)\n",
    "            \n",
    "            # Extract text\n",
    "            text = extract_text_from_pdf(pdf_path)\n",
    "            \n",
    "            # Extract tables\n",
    "            tables = extract_tables_from_pdf(pdf_path)\n",
    "            \n",
    "            # Save text to JSON file\n",
    "            text_output_file = os.path.join(output_directory, f\"{os.path.splitext(filename)[0]}_text.json\")\n",
    "            with open(text_output_file, \"w\", encoding=\"utf-8\") as f:\n",
    "                json.dump({\"filename\": filename, \"text\": text}, f, ensure_ascii=False, indent=4)\n",
    "            print(f\"Text extracted from {pdf_path} and saved to {text_output_file}\")\n",
    "            \n",
    "            # Save tables to JSON file\n",
    "            tables_output_file = os.path.join(output_directory, f\"{os.path.splitext(filename)[0]}_tables.json\")\n",
    "            with open(tables_output_file, \"w\", encoding=\"utf-8\") as f:\n",
    "                json.dump({\"filename\": filename, \"tables\": tables}, f, ensure_ascii=False, indent=4)\n",
    "            print(f\"Tables extracted from {pdf_path} and saved to {tables_output_file}\")\n",
    "            \n",
    "            # Extract and save images\n",
    "            images = extract_images_from_pdf(pdf_path, output_directory)\n",
    "            images_output_file = os.path.join(output_directory, f\"{os.path.splitext(filename)[0]}_images.json\")\n",
    "            with open(images_output_file, \"w\", encoding=\"utf-8\") as f:\n",
    "                json.dump({\"filename\": filename, \"images\": images}, f, ensure_ascii=False, indent=4)\n",
    "            print(f\"Images extracted from {pdf_path} and saved to {images_output_file}\")\n",
    "\n",
    "if __name__ == \"__main__\":\n",
    "    main()"
   ]
  },
  {
   "cell_type": "code",
   "execution_count": null,
   "id": "847c99bb-fa6d-4ce1-a2ca-ae5ac6fe4cb9",
   "metadata": {},
   "outputs": [],
   "source": []
  }
 ],
 "metadata": {
  "kernelspec": {
   "display_name": "Python 3 (ipykernel)",
   "language": "python",
   "name": "python3"
  },
  "language_info": {
   "codemirror_mode": {
    "name": "ipython",
    "version": 3
   },
   "file_extension": ".py",
   "mimetype": "text/x-python",
   "name": "python",
   "nbconvert_exporter": "python",
   "pygments_lexer": "ipython3",
   "version": "3.11.0"
  }
 },
 "nbformat": 4,
 "nbformat_minor": 5
}
